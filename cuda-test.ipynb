{
 "cells": [
  {
   "attachments": {},
   "cell_type": "markdown",
   "metadata": {},
   "source": [
    "# CUDA and [RAPIDS](https://developer.nvidia.com/rapidshttps://developer.nvidia.com/rapids) Tests"
   ]
  },
  {
   "attachments": {},
   "cell_type": "markdown",
   "metadata": {},
   "source": [
    "## Iris Database"
   ]
  },
  {
   "attachments": {},
   "cell_type": "markdown",
   "metadata": {},
   "source": [
    "## Test Performance"
   ]
  },
  {
   "attachments": {},
   "cell_type": "markdown",
   "metadata": {},
   "source": [
    "### Using GPU only"
   ]
  },
  {
   "cell_type": "code",
   "execution_count": 2,
   "metadata": {},
   "outputs": [
    {
     "name": "stdout",
     "output_type": "stream",
     "text": [
      "GPU: Testing with [1,000,000] samples and [20] features !\n",
      "BEGIN [UMAP (cuML, GPU)] ...\n",
      "END [ UMAP (cuML, GPU)]. Execution time: 76.721 seconds\n"
     ]
    }
   ],
   "source": [
    "import time\n",
    "from sklearn.datasets import make_blobs\n",
    "from sklearn.manifold import TSNE\n",
    "from cuml.manifold import UMAP\n",
    "\n",
    "# Create a large dataset\n",
    "n_samples = 1_000_000\n",
    "n_features = 20\n",
    "X, _ = make_blobs(n_samples=n_samples, n_features=n_features)\n",
    "\n",
    "print(f'GPU: Testing with [{n_samples:,.0f}] samples and [{n_features:,.0f}] features !')\n",
    "\n",
    "# Run UMAP with cuML (GPU)\n",
    "print('BEGIN [UMAP (cuML, GPU)] ...')\n",
    "start = time.time()\n",
    "umap = UMAP(n_components=2)\n",
    "X_transformed_cuml = umap.fit_transform(X)\n",
    "end = time.time()\n",
    "print(f\"END [ UMAP (cuML, GPU)]. Execution time: {(end - start):.3f} seconds\")"
   ]
  },
  {
   "attachments": {},
   "cell_type": "markdown",
   "metadata": {},
   "source": [
    "### Using CPU/GPU"
   ]
  },
  {
   "cell_type": "code",
   "execution_count": 4,
   "metadata": {},
   "outputs": [
    {
     "name": "stdout",
     "output_type": "stream",
     "text": [
      "CPU VS GPU: Testing with [10,000] samples and [20] features !\n",
      "BEGIN [TSNE (sklearn, CPU)] (~30s)...\n",
      "END: TSNE (sklearn, CPU). Execution time: 27.130 seconds\n",
      "BEGIN [UMAP (cuML, GPU)] ...\n",
      "END [ UMAP (cuML, GPU)]. Execution time: 0.412 seconds\n"
     ]
    }
   ],
   "source": [
    "import time\n",
    "from sklearn.datasets import make_blobs\n",
    "from sklearn.manifold import TSNE\n",
    "from cuml.manifold import UMAP\n",
    "\n",
    "# Create a large dataset\n",
    "n_samples = 10_000\n",
    "n_features = 20\n",
    "X, _ = make_blobs(n_samples=n_samples, n_features=n_features)\n",
    "\n",
    "print(f'CPU VS GPU: Testing with [{n_samples:,.0f}] samples and [{n_features:,.0f}] features !')\n",
    "\n",
    "# Run UMAP with scikit-learn (CPU)\n",
    "print('BEGIN [TSNE (sklearn, CPU)] (~30s)...')\n",
    "start = time.time()\n",
    "tsne = TSNE(n_components=2)\n",
    "X_transformed_sklearn = tsne.fit_transform(X)\n",
    "end = time.time()\n",
    "print(f\"END: TSNE (sklearn, CPU). Execution time: {(end - start):.3f} seconds\")\n",
    "\n",
    "# Run UMAP with cuML (GPU)\n",
    "print('BEGIN [UMAP (cuML, GPU)] ...')\n",
    "start = time.time()\n",
    "umap = UMAP(n_components=2)\n",
    "X_transformed_cuml = umap.fit_transform(X)\n",
    "end = time.time()\n",
    "print(f\"END [ UMAP (cuML, GPU)]. Execution time: {(end - start):.3f} seconds\")\n"
   ]
  }
 ],
 "metadata": {
  "kernelspec": {
   "display_name": "rapids-23.04",
   "language": "python",
   "name": "python3"
  },
  "language_info": {
   "codemirror_mode": {
    "name": "ipython",
    "version": 3
   },
   "file_extension": ".py",
   "mimetype": "text/x-python",
   "name": "python",
   "nbconvert_exporter": "python",
   "pygments_lexer": "ipython3",
   "version": "3.10.11"
  },
  "orig_nbformat": 4
 },
 "nbformat": 4,
 "nbformat_minor": 2
}
