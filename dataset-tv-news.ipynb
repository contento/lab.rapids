{
 "cells": [
  {
   "attachments": {},
   "cell_type": "markdown",
   "metadata": {},
   "source": [
    "# Using [SVC](https://github.com/rapidsai/cuml) with [RAPIDS](https://developer.nvidia.com/rapidshttps://developer.nvidia.com/rapids)"
   ]
  },
  {
   "cell_type": "code",
   "execution_count": 6,
   "metadata": {},
   "outputs": [],
   "source": [
    "import pandas as pd\n",
    "import cudf\n",
    "from cuml import SVC\n",
    "from cuml.preprocessing import StandardScaler\n",
    "from sklearn.model_selection import train_test_split\n",
    "from sklearn.metrics import confusion_matrix, precision_recall_fscore_support\n",
    "import time\n",
    "\n",
    "df = cudf.read_csv('TV_News_Channel_Commercial_Detection_Dataset.csv')\n",
    "\n",
    "# Convert cuDF DataFrame to pandas DataFrame for compatibility with other libraries\n",
    "df_pandas = df.to_pandas()"
   ]
  },
  {
   "cell_type": "code",
   "execution_count": 7,
   "metadata": {},
   "outputs": [],
   "source": [
    "# Separate the features (input variables) and the target variable (output variable)\n",
    "X = df_pandas.drop('class', axis=1)\n",
    "y = df_pandas['class']\n",
    "\n",
    "# Split the data into training and testing sets\n",
    "X_train, X_test, y_train, y_test = train_test_split(X, y, test_size=0.2, random_state=42)"
   ]
  },
  {
   "cell_type": "code",
   "execution_count": 8,
   "metadata": {},
   "outputs": [],
   "source": [
    "# Normalize the data using cuML StandardScaler\n",
    "scaler = StandardScaler()\n",
    "X_train_scaled = scaler.fit_transform(X_train)\n",
    "X_test_scaled = scaler.transform(X_test)"
   ]
  },
  {
   "cell_type": "code",
   "execution_count": 14,
   "metadata": {},
   "outputs": [
    {
     "name": "stdout",
     "output_type": "stream",
     "text": [
      "== [ C = 0.1 ] ================\n",
      "Confusion Matrix:\n",
      "[[1658  218]\n",
      " [ 335 1333]]\n",
      "F1 Score: 0.8282\n",
      "Time spent: 20.7222 seconds\n",
      "\n",
      "== [ C = 1.0 ] ================\n",
      "Confusion Matrix:\n",
      "[[1744  132]\n",
      " [ 303 1365]]\n",
      "F1 Score: 0.8626\n",
      "Time spent: 22.6778 seconds\n",
      "\n",
      "== [ C = 10.0 ] ================\n",
      "Confusion Matrix:\n",
      "[[1769  107]\n",
      " [ 305 1363]]\n",
      "F1 Score: 0.8687\n",
      "Time spent: 26.9014 seconds\n",
      "\n",
      "== [ C = 100.0 ] ================\n",
      "Confusion Matrix:\n",
      "[[1756  120]\n",
      " [ 338 1330]]\n",
      "F1 Score: 0.8531\n",
      "Time spent: 30.1944 seconds\n",
      "\n",
      "== [ C = 1000.0 ] ================\n",
      "Confusion Matrix:\n",
      "[[1750  126]\n",
      " [ 355 1313]]\n",
      "F1 Score: 0.8452\n",
      "Time spent: 41.6941 seconds\n",
      "\n"
     ]
    }
   ],
   "source": [
    "c_values = [0.1, 1, 10, 100, 1000]\n",
    "\n",
    "for c in c_values:\n",
    "    svm = SVC(C=c, kernel='rbf', gamma='scale')\n",
    "    \n",
    "    start_time = time.time()\n",
    "    \n",
    "    svm.fit(X_train_scaled, y_train)\n",
    "    \n",
    "    elapsed_time = time.time() - start_time\n",
    "    \n",
    "    predictions = svm.predict(X_test_scaled)\n",
    "\n",
    "    confusion_mat = confusion_matrix(y_test, predictions)\n",
    "\n",
    "    precision, recall, f1, _ = precision_recall_fscore_support(y_test, predictions, average='binary')\n",
    "\n",
    "    print(\"== [ C = {:.1f} ] ================\".format(c))\n",
    "    print(\"Confusion Matrix:\")\n",
    "    print(f\"{confusion_mat}\")\n",
    "    print(\"F1 Score: {:.4f}\".format(f1))\n",
    "    print(\"Time spent: {:.4f} seconds\\n\".format(elapsed_time))\n"
   ]
  }
 ],
 "metadata": {
  "kernelspec": {
   "display_name": "rapids-23.04",
   "language": "python",
   "name": "python3"
  },
  "language_info": {
   "codemirror_mode": {
    "name": "ipython",
    "version": 3
   },
   "file_extension": ".py",
   "mimetype": "text/x-python",
   "name": "python",
   "nbconvert_exporter": "python",
   "pygments_lexer": "ipython3",
   "version": "3.10.11"
  },
  "orig_nbformat": 4
 },
 "nbformat": 4,
 "nbformat_minor": 2
}
